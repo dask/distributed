{
 "cells": [
  {
   "cell_type": "code",
   "execution_count": 1,
   "source": [
    "%load_ext autoreload\n",
    "%autoreload 2"
   ],
   "outputs": [],
   "metadata": {}
  },
  {
   "cell_type": "code",
   "execution_count": 2,
   "source": [
    "from dask.distributed import SSHCluster\n",
    "cluster = SSHCluster([\"127.0.0.1\", \"127.0.0.1\", \"127.0.0.1\"])\n",
    "cluster"
   ],
   "outputs": [
    {
     "output_type": "stream",
     "name": "stderr",
     "text": [
      "distributed.deploy.ssh - INFO - distributed.scheduler - INFO - -----------------------------------------------\n",
      "distributed.deploy.ssh - INFO - distributed.http.proxy - INFO - To route to workers diagnostics web server please install jupyter-server-proxy: python -m pip install jupyter-server-proxy\n",
      "distributed.deploy.ssh - INFO - distributed.scheduler - INFO - -----------------------------------------------\n",
      "distributed.deploy.ssh - INFO - distributed.scheduler - INFO - Clear task state\n",
      "distributed.deploy.ssh - INFO - distributed.scheduler - INFO -   Scheduler at:  tcp://192.168.0.122:8786\n",
      "distributed.deploy.ssh - INFO - distributed.nanny - INFO -         Start Nanny at: 'tcp://192.168.0.122:43493'\n",
      "distributed.deploy.ssh - INFO - distributed.nanny - INFO -         Start Nanny at: 'tcp://192.168.0.122:33553'\n",
      "distributed.deploy.ssh - INFO - distributed.diskutils - INFO - Found stale lock file and directory '/home/frey/dask-worker-space/worker-euzz_lnq', purging\n",
      "distributed.deploy.ssh - INFO - distributed.diskutils - INFO - Found stale lock file and directory '/home/frey/dask-worker-space/worker-lu6_f_zs', purging\n",
      "distributed.deploy.ssh - INFO - distributed.worker - INFO -       Start worker at:  tcp://192.168.0.122:43709\n",
      "distributed.deploy.ssh - INFO - distributed.worker - INFO -       Start worker at:  tcp://192.168.0.122:37107\n"
     ]
    },
    {
     "output_type": "display_data",
     "data": {
      "text/plain": [
       "Tab(children=(HTML(value='<div class=\"jp-RenderedHTMLCommon jp-RenderedHTML jp-mod-trusted jp-OutputArea-outpu…"
      ],
      "application/vnd.jupyter.widget-view+json": {
       "version_major": 2,
       "version_minor": 0,
       "model_id": "b32ff5d348b34581bb7e4fbeac1031d5"
      }
     },
     "metadata": {}
    }
   ],
   "metadata": {}
  },
  {
   "cell_type": "code",
   "execution_count": 6,
   "source": [
    "repr(cluster.scheduler)"
   ],
   "outputs": [
    {
     "output_type": "execute_result",
     "data": {
      "text/plain": [
       "'<distributed.deploy.ssh.Scheduler: status=Status.running>'"
      ]
     },
     "metadata": {},
     "execution_count": 6
    }
   ],
   "metadata": {}
  },
  {
   "cell_type": "code",
   "execution_count": 4,
   "source": [
    "cluster.workers"
   ],
   "outputs": [
    {
     "output_type": "execute_result",
     "data": {
      "text/plain": [
       "{0: <distributed.deploy.ssh.Worker: status=Status.running>,\n",
       " 1: <distributed.deploy.ssh.Worker: status=Status.running>}"
      ]
     },
     "metadata": {},
     "execution_count": 4
    }
   ],
   "metadata": {}
  },
  {
   "cell_type": "code",
   "execution_count": 5,
   "source": [
    "cluster.workers[0]"
   ],
   "outputs": [
    {
     "output_type": "execute_result",
     "data": {
      "text/plain": [
       "<distributed.deploy.ssh.Worker: status=Status.running>"
      ],
      "text/html": [
       "\n",
       "          <div>\n",
       "            <div\n",
       "                style=\"\n",
       "                width: 24px;\n",
       "                height: 24px;\n",
       "                background-color: #c7f9cc;\n",
       "                border: 3px solid #78c6a3;\n",
       "                border-radius: 5px;\n",
       "                position: absolute;\"\n",
       "            ></div>\n",
       "            <div style=\"margin-left: 48px\">\n",
       "                <h3 style=\"margin-bottom: 0px\">distributed.deploy.ssh.Worker</h3>\n",
       "                <p style=\"color: #9d9d9d; margin-bottom: 0px\">Status: Running</p>\n",
       "            </div>\n",
       "            <p>\n",
       "            <table style=\"width: 100%\">\n",
       "                <tr>\n",
       "                <th style=\"text-align: left; width: 150px\">Address</th>\n",
       "                <td style=\"text-align: left\">tcp://192.168.0.122:43709</td>\n",
       "                </tr>\n",
       "                <tr>\n",
       "                <th style=\"text-align: left; width: 150px\">External Address</th>\n",
       "                <td style=\"text-align: left\">None</td>\n",
       "                </tr>\n",
       "            </table> </p>\n",
       "            </div>\n",
       "          </div>\n",
       "        "
      ]
     },
     "metadata": {},
     "execution_count": 5
    }
   ],
   "metadata": {}
  }
 ],
 "metadata": {
  "interpreter": {
   "hash": "312ca3dbd625a659cede44a1ff01d19c6ee2bca04703d70bed7ab91f64b36c9c"
  },
  "kernelspec": {
   "name": "python3",
   "display_name": "Python 3.8.10 64-bit ('dask-distributed': conda)"
  },
  "language_info": {
   "codemirror_mode": {
    "name": "ipython",
    "version": 3
   },
   "file_extension": ".py",
   "mimetype": "text/x-python",
   "name": "python",
   "nbconvert_exporter": "python",
   "pygments_lexer": "ipython3",
   "version": "3.8.10"
  }
 },
 "nbformat": 4,
 "nbformat_minor": 4
}