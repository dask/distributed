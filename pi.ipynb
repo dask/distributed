{
 "cells": [
  {
   "cell_type": "code",
   "execution_count": 1,
   "source": [
    "%load_ext autoreload\n",
    "%autoreload 2"
   ],
   "outputs": [],
   "metadata": {}
  },
  {
   "cell_type": "code",
   "execution_count": 2,
   "source": [
    "from dask.distributed.deploy import ProcessInterface\n",
    "\n",
    "proc = ProcessInterface()\n",
    "proc.status = \"created\"\n",
    "proc"
   ],
   "outputs": [
    {
     "output_type": "execute_result",
     "data": {
      "text/plain": [
       "<ProcessInterface: status=Status.created>"
      ],
      "text/html": [
       "\n",
       "            <div>\n",
       "              <div\n",
       "                style=\"\n",
       "                  width: 24px;\n",
       "                  height: 24px;\n",
       "                  background-color: #c7f9cc;\n",
       "                  border: 3px solid #78c6a3;\n",
       "                  border-radius: 5px;\n",
       "                  position: absolute;\"\n",
       "              ></div>\n",
       "              <div style=\"margin-left: 48px\">\n",
       "                <h3 style=\"margin-bottom: 0px\">Process Interface</h3>\n",
       "                <p style=\"color: #9D9D9D; margin-bottom: 0px\">Status: Created</p>\n",
       "              </div>\n",
       "            </div>\n",
       "        "
      ]
     },
     "metadata": {},
     "execution_count": 2
    }
   ],
   "metadata": {}
  },
  {
   "cell_type": "code",
   "execution_count": 3,
   "source": [
    "from dask.distributed.deploy import ProcessInterface\n",
    "\n",
    "proc = ProcessInterface()\n",
    "proc.status = \"running\"\n",
    "proc"
   ],
   "outputs": [
    {
     "output_type": "execute_result",
     "data": {
      "text/plain": [
       "<ProcessInterface: status=Status.running>"
      ],
      "text/html": [
       "\n",
       "            <div>\n",
       "              <div\n",
       "                style=\"\n",
       "                  width: 24px;\n",
       "                  height: 24px;\n",
       "                  background-color: #caf0f8;\n",
       "                  border: 3px solid #48cae4;\n",
       "                  border-radius: 5px;\n",
       "                  position: absolute;\"\n",
       "              ></div>\n",
       "              <div style=\"margin-left: 48px\">\n",
       "                <h3 style=\"margin-bottom: 0px\">Process Interface</h3>\n",
       "                <p style=\"color: #9D9D9D; margin-bottom: 0px\">Status: Running</p>\n",
       "              </div>\n",
       "            </div>\n",
       "        "
      ]
     },
     "metadata": {},
     "execution_count": 3
    }
   ],
   "metadata": {}
  },
  {
   "cell_type": "code",
   "execution_count": 4,
   "source": [
    "from dask.distributed.deploy import ProcessInterface\n",
    "\n",
    "proc = ProcessInterface()\n",
    "proc.status = \"closed\"\n",
    "proc"
   ],
   "outputs": [
    {
     "output_type": "execute_result",
     "data": {
      "text/plain": [
       "<ProcessInterface: status=Status.closed>"
      ],
      "text/html": [
       "\n",
       "            <div>\n",
       "              <div\n",
       "                style=\"\n",
       "                  width: 24px;\n",
       "                  height: 24px;\n",
       "                  background-color: #ffbfad;\n",
       "                  border: 3px solid #ff6132;\n",
       "                  border-radius: 5px;\n",
       "                  position: absolute;\"\n",
       "              ></div>\n",
       "              <div style=\"margin-left: 48px\">\n",
       "                <h3 style=\"margin-bottom: 0px\">Process Interface</h3>\n",
       "                <p style=\"color: #9D9D9D; margin-bottom: 0px\">Status: Closed</p>\n",
       "              </div>\n",
       "            </div>\n",
       "        "
      ]
     },
     "metadata": {},
     "execution_count": 4
    }
   ],
   "metadata": {}
  }
 ],
 "metadata": {
  "interpreter": {
   "hash": "312ca3dbd625a659cede44a1ff01d19c6ee2bca04703d70bed7ab91f64b36c9c"
  },
  "kernelspec": {
   "display_name": "Python 3 (ipykernel)",
   "language": "python",
   "name": "python3"
  },
  "language_info": {
   "codemirror_mode": {
    "name": "ipython",
    "version": 3
   },
   "file_extension": ".py",
   "mimetype": "text/x-python",
   "name": "python",
   "nbconvert_exporter": "python",
   "pygments_lexer": "ipython3",
   "version": "3.8.5"
  }
 },
 "nbformat": 4,
 "nbformat_minor": 4
}