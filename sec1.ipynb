{
 "cells": [
  {
   "cell_type": "code",
   "execution_count": 1,
   "source": [
    "%load_ext autoreload\n",
    "%autoreload 2"
   ],
   "outputs": [],
   "metadata": {}
  },
  {
   "cell_type": "code",
   "execution_count": 2,
   "source": [
    "from dask.distributed import Security"
   ],
   "outputs": [],
   "metadata": {}
  },
  {
   "cell_type": "code",
   "execution_count": 3,
   "source": [
    "Security.temporary().__repr__()"
   ],
   "outputs": [
    {
     "output_type": "execute_result",
     "data": {
      "text/plain": [
       "\"Security('require_encryption'='True', 'tls_ca_file'='Temporary (In-memory)', 'tls_client_cert'='Temporary (In-memory)', 'tls_client_key'='Temporary (In-memory)', 'tls_scheduler_cert'='Temporary (In-memory)', 'tls_scheduler_key'='Temporary (In-memory)', 'tls_worker_cert'='Temporary (In-memory)', 'tls_worker_key'='Temporary (In-memory)')\""
      ]
     },
     "metadata": {},
     "execution_count": 3
    }
   ],
   "metadata": {}
  },
  {
   "cell_type": "code",
   "execution_count": 4,
   "source": [
    "Security(tls_ca_file=\"ca.pem\", tls_scheduler_cert=\"scert.pem\").__repr__()"
   ],
   "outputs": [
    {
     "output_type": "execute_result",
     "data": {
      "text/plain": [
       "\"Security('require_encryption'='True', 'tls_ca_file'='Local (/home/frey/GitHub/distributed/ca.pem)', 'tls_scheduler_cert'='Local (/home/frey/GitHub/distributed/scert.pem)')\""
      ]
     },
     "metadata": {},
     "execution_count": 4
    }
   ],
   "metadata": {}
  },
  {
   "cell_type": "code",
   "execution_count": 5,
   "source": [
    "Security(require_encryption=False, tls_ca_file=\"ca.pem\", tls_scheduler_cert=\"scert.pem\").__repr__()"
   ],
   "outputs": [
    {
     "output_type": "execute_result",
     "data": {
      "text/plain": [
       "\"Security('require_encryption'='False', 'tls_ca_file'='Local (/home/frey/GitHub/distributed/ca.pem)', 'tls_scheduler_cert'='Local (/home/frey/GitHub/distributed/scert.pem)')\""
      ]
     },
     "metadata": {},
     "execution_count": 5
    }
   ],
   "metadata": {}
  }
 ],
 "metadata": {
  "interpreter": {
   "hash": "312ca3dbd625a659cede44a1ff01d19c6ee2bca04703d70bed7ab91f64b36c9c"
  },
  "kernelspec": {
   "display_name": "Python 3 (ipykernel)",
   "language": "python",
   "name": "python3"
  },
  "language_info": {
   "codemirror_mode": {
    "name": "ipython",
    "version": 3
   },
   "file_extension": ".py",
   "mimetype": "text/x-python",
   "name": "python",
   "nbconvert_exporter": "python",
   "pygments_lexer": "ipython3",
   "version": "3.8.5"
  }
 },
 "nbformat": 4,
 "nbformat_minor": 4
}