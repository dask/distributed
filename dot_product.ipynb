{
 "cells": [
  {
   "cell_type": "code",
   "execution_count": null,
   "id": "062c2d0f",
   "metadata": {},
   "outputs": [],
   "source": [
    "import math\n",
    "import dask.config\n",
    "import dask.array as da\n",
    "import distributed\n",
    "from distributed.diagnostics import MemorySampler\n",
    "\n",
    "n_gib = 16\n",
    "side = int(math.sqrt(n_gib * 2) * 2**13)\n",
    "a = da.random.random((side, side))\n",
    "b = (a @ a.T).sum()\n",
    "\n",
    "ms = MemorySampler()\n",
    "\n",
    "configs = {\n",
    "    f\"{n_gib} GiB,no shm,dask spill\": ({}, \"8 GiB\"),\n",
    "    f\"{n_gib} GiB,no shm,OS swap\": ({}, False),\n",
    "    f\"{n_gib} GiB,shm,target=0.6\": (\n",
    "        {\n",
    "            \"temporary-directory\": \"/home/crusaderky/shm\",\n",
    "            \"distributed.worker.memory.shared\": True,\n",
    "        },\n",
    "        \"8 GiB\",\n",
    "    ),\n",
    "    f\"{n_gib} GiB,shm,target=0.01\": (\n",
    "        {\n",
    "            \"temporary-directory\": \"/home/crusaderky/shm\",\n",
    "            \"distributed.worker.memory.shared\": True,\n",
    "            \"distributed.worker.memory.target\": 0.01,\n",
    "        },\n",
    "        \"8 GiB\",\n",
    "    ),\n",
    "}\n",
    "for title, (cfg, memory_limit) in configs.items():\n",
    "    print(title)\n",
    "    with dask.config.set(cfg):\n",
    "        with distributed.Client(\n",
    "            n_workers=8, memory_limit=memory_limit, threads_per_worker=2\n",
    "        ):\n",
    "            with ms.sample(title):\n",
    "                b.compute()\n",
    "    print(\"done\")\n",
    "    if \"dask spill\" in title:\n",
    "        input()"
   ]
  },
  {
   "cell_type": "code",
   "execution_count": null,
   "id": "e00ba7c8",
   "metadata": {},
   "outputs": [],
   "source": [
    "ms.plot(kind=\"area-h\", grid=True, figsize=(40, 15))"
   ]
  },
  {
   "cell_type": "code",
   "execution_count": null,
   "id": "bee35ef8",
   "metadata": {},
   "outputs": [],
   "source": []
  }
 ],
 "metadata": {
  "kernelspec": {
   "display_name": "Python 3 (ipykernel)",
   "language": "python",
   "name": "python3"
  },
  "language_info": {
   "codemirror_mode": {
    "name": "ipython",
    "version": 3
   },
   "file_extension": ".py",
   "mimetype": "text/x-python",
   "name": "python",
   "nbconvert_exporter": "python",
   "pygments_lexer": "ipython3",
   "version": "3.9.15"
  }
 },
 "nbformat": 4,
 "nbformat_minor": 5
}
